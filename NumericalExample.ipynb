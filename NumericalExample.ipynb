{
 "cells": [
  {
   "cell_type": "code",
   "execution_count": 2,
   "id": "5bc8cb2d-6557-4013-9c87-55738e6364db",
   "metadata": {},
   "outputs": [],
   "source": [
    "# This code is an illustrative numerical example to explain the PLA algorithm using only two data points\n",
    "from __future__ import print_function\n",
    "import matplotlib,sys\n",
    "from matplotlib import pyplot as plt\n",
    "import numpy as np"
   ]
  },
  {
   "cell_type": "code",
   "execution_count": 3,
   "id": "5a576ee7-879c-49fb-8d20-3b4c719c1250",
   "metadata": {},
   "outputs": [],
   "source": [
    "def predict(inputs,weights):\n",
    "\tactivation=0.0\n",
    "\tfor i,w in zip(inputs,weights):\n",
    "\t\tactivation += i*w \n",
    "\treturn 1.0 if activation>=0.0 else 0.0\n",
    "\n",
    "def plot(matrix,weights=None,title=\"Prediction Matrix\"):\n",
    "\tif len(matrix[0])==4: # if 2D inputs, excluding bias and ys\n",
    "\t\tfig,ax = plt.subplots()\n",
    "\t\tax.set_title(title,fontsize=30)\n",
    "\t\tax.set_xlabel(\"x1\", fontsize=30)\n",
    "\t\tax.set_ylabel(\"x2\", fontsize=30)\n",
    "\n",
    "\t\tif weights!=None:\n",
    "\t\t\tmap_min=-3\n",
    "\t\t\tmap_max=3\n",
    "\t\t\ty_res=0.2\n",
    "\t\t\tx_res=0.2\n",
    "\t\t\tys=np.arange(map_min,map_max,y_res)\n",
    "\t\t\txs=np.arange(map_min,map_max,x_res)\n",
    "\t\t\tzs=[]\n",
    "\t\t\tfor cur_y in range(len(ys)):\n",
    "\t\t\t\tfor cur_x in range(len(xs)):\n",
    "\t\t\t\t\t#print(ys[cur_y])\n",
    "\t\t\t\t\t#print(xs[cur_x])\n",
    "\t\t\t\t\tzs.append(predict([1.0,xs[cur_x],ys[cur_y]],weights))\n",
    "\t\t\txs,ys=np.meshgrid(xs,ys)\n",
    "\t\t\tzs=np.array(zs)\n",
    "\t\t\tzs = zs.reshape(xs.shape)\n",
    "\t\t\tcp=plt.contourf(xs,ys,zs,levels=[-1,-0.001,0,1],colors=('b','r'),alpha=0.1)\n",
    "\n",
    "\t\tc1_data=[[],[]]\n",
    "\t\tc0_data=[[],[]]\n",
    "\t\tfor i in range(len(matrix)):\n",
    "\t\t\tcur_i1 = matrix[i][1]\n",
    "\t\t\tcur_i2 = matrix[i][2]\n",
    "\t\t\tcur_y  = matrix[i][-1]\n",
    "\t\t\tif cur_y==1:\n",
    "\t\t\t\tc1_data[0].append(cur_i1)\n",
    "\t\t\t\tc1_data[1].append(cur_i2)\n",
    "\t\t\telse:\n",
    "\t\t\t\tc0_data[0].append(cur_i1)\n",
    "\t\t\t\tc0_data[1].append(cur_i2)\n",
    "\n",
    "\t\tplt.xticks(np.arange(-3,3,0.3))\n",
    "\t\tplt.yticks(np.arange(-3,3,0.3))\n",
    "\t\tplt.yticks(fontsize=20)\n",
    "\t\tplt.xticks(fontsize=20)\n",
    "\t\tplt.xlim(-3,3)\n",
    "\t\tplt.ylim(-3,3)\n",
    "\n",
    "\t\tc0s = plt.scatter(c0_data[0],c0_data[1],s=160.0,c='r',label='Class -1')\n",
    "\t\tc1s = plt.scatter(c1_data[0],c1_data[1],s=160.0,c='b',label='Class 1')\n",
    "\n",
    "\t\tplt.legend(fontsize=30,loc=1)\n",
    "\t\tplt.show()\n",
    "\t\treturn"
   ]
  },
  {
   "cell_type": "code",
   "execution_count": 1,
   "id": "b1864e32-3551-4895-9789-4887c62a5927",
   "metadata": {},
   "outputs": [],
   "source": [
    "# each matrix row: up to last row = inputs, last row = y (classification)\n",
    "\t\t   # Bias \tf1 \t\tf2 \t\ty\n",
    "matrix = [\t[1.00,\t1,\t1,\t1.0],\n",
    "\t\t\t[1.00,\t2,\t-2,\t-1]]\n",
    "\n",
    "# initial weights specified in problem (---> A- model representation)\n",
    "weights= [\t 0,\t1.00,  0.5\t\t] "
   ]
  },
  {
   "cell_type": "code",
   "execution_count": null,
   "id": "1237dc42-d014-416c-87f9-f91a3e122823",
   "metadata": {},
   "outputs": [],
   "source": []
  }
 ],
 "metadata": {
  "kernelspec": {
   "display_name": "Python 3 (ipykernel)",
   "language": "python",
   "name": "python3"
  },
  "language_info": {
   "codemirror_mode": {
    "name": "ipython",
    "version": 3
   },
   "file_extension": ".py",
   "mimetype": "text/x-python",
   "name": "python",
   "nbconvert_exporter": "python",
   "pygments_lexer": "ipython3",
   "version": "3.9.21"
  }
 },
 "nbformat": 4,
 "nbformat_minor": 5
}
