{
 "cells": [
  {
   "cell_type": "code",
   "execution_count": null,
   "id": "48ac627f-dd38-4329-9ae4-e528d8dbe8c6",
   "metadata": {},
   "outputs": [],
   "source": []
  }
 ],
 "metadata": {
  "kernelspec": {
   "display_name": "",
   "name": ""
  },
  "language_info": {
   "name": ""
  }
 },
 "nbformat": 4,
 "nbformat_minor": 5
}
