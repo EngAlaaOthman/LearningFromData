{
 "cells": [
  {
   "cell_type": "code",
   "execution_count": 1,
   "id": "c484991f-84ae-4d51-8261-963fcc249ff8",
   "metadata": {},
   "outputs": [],
   "source": [
    "import numpy as np\n",
    "\n",
    "# 🏆 Define the Play Tennis dataset (Weather conditions and \"Play Tennis\" decision)\n",
    "Data = [\n",
    "    ['Sunny', 'Hot', 'High', 'Weak', 'No'],\n",
    "    ['Sunny', 'Hot', 'High', 'Strong', 'No'],\n",
    "    ['Overcast', 'Hot', 'High', 'Weak', 'Yes'],\n",
    "    ['Rain', 'Mild', 'High', 'Weak', 'Yes'],\n",
    "    ['Rain', 'Cool', 'Normal', 'Weak', 'Yes'],\n",
    "    ['Rain', 'Cool', 'Normal', 'Strong', 'No'],\n",
    "    ['Overcast', 'Cool', 'Normal', 'Strong', 'Yes'],\n",
    "    ['Sunny', 'Mild', 'High', 'Weak', 'No'],\n",
    "    ['Sunny', 'Cool', 'Normal', 'Weak', 'Yes'],\n",
    "    ['Rain', 'Mild', 'Normal', 'Weak', 'Yes'],\n",
    "    ['Sunny', 'Mild', 'Normal', 'Strong', 'Yes'],\n",
    "    ['Overcast', 'Mild', 'High', 'Strong', 'Yes'],\n",
    "    ['Overcast', 'Hot', 'Normal', 'Weak', 'Yes'],\n",
    "    ['Rain', 'Mild', 'High', 'Strong', 'No']\n",
    "]"
   ]
  },
  {
   "cell_type": "code",
   "execution_count": 3,
   "id": "5cc158c0-8567-4c51-8ada-d7dc0c8c1365",
   "metadata": {},
   "outputs": [],
   "source": [
    "#  Define a function to compute probability density for a given class\n",
    "def pdf(class_idx, x):\n",
    "    mean0 = mean[class_idx]  # Mean of feature values for the given class\n",
    "    var0 = var[class_idx]    # Variance of feature values for the given class\n",
    "    numerator = np.exp(-((x.reshape(1, -1) - mean0) ** 2) / (2 * var0))  # Gaussian formula numerator\n",
    "    denominator = np.sqrt(2 * np.pi * var0)  # Gaussian formula denominator\n",
    "    return numerator / denominator  # Return probability density"
   ]
  },
  {
   "cell_type": "code",
   "execution_count": 5,
   "id": "8837422d-df81-4b69-9d3b-47a5a4d33c39",
   "metadata": {},
   "outputs": [
    {
     "name": "stdout",
     "output_type": "stream",
     "text": [
      "\n",
      " Numerical Features:  [[1 0 1 0]\n",
      " [1 0 1 1]\n",
      " [0 0 1 0]\n",
      " [2 2 1 0]\n",
      " [2 1 0 0]\n",
      " [2 1 0 1]\n",
      " [0 1 0 1]\n",
      " [1 2 1 0]\n",
      " [1 1 0 0]\n",
      " [2 2 0 0]\n",
      " [1 2 0 1]\n",
      " [0 2 1 1]\n",
      " [0 0 0 0]\n",
      " [2 2 1 1]]\n"
     ]
    }
   ],
   "source": [
    "#  Extract features (first four columns) from Data\n",
    "features = [row[:-1] for row in Data]\n",
    "\n",
    "# Map categorical values to numeric IDs for easier calculations\n",
    "feature_mappings = {}  # Dictionary to store mappings for each column\n",
    "for i in range(len(features[0])):\n",
    "    unique_values = list(set(row[i] for row in features))  # Unique values in the column\n",
    "    mapping = {value: idx for idx, value in enumerate(unique_values)}  # Create mapping (e.g., 'Sunny' → 0, 'Rain' → 1)\n",
    "    feature_mappings[i] = mapping  # Store in dictionary\n",
    "\n",
    "#  Convert categorical features into numeric representations\n",
    "numerical_features = np.array([[feature_mappings[i][value] for i, value in enumerate(row)] \n",
    "                                for row in features])\n",
    "print(\"\\n Numerical Features: \", numerical_features)"
   ]
  },
  {
   "cell_type": "code",
   "execution_count": 7,
   "id": "49cb2e29-572c-44ea-acac-66b681650f28",
   "metadata": {},
   "outputs": [
    {
     "name": "stdout",
     "output_type": "stream",
     "text": [
      "\n",
      "Feature Mappings:  {0: {'Overcast': 0, 'Sunny': 1, 'Rain': 2}, 1: {'Hot': 0, 'Cool': 1, 'Mild': 2}, 2: {'Normal': 0, 'High': 1}, 3: {'Weak': 0, 'Strong': 1}}\n",
      "\n",
      "Class Label Mapping:  {'No': 0, 'Yes': 1}\n"
     ]
    }
   ],
   "source": [
    "#  Extract class labels (last column) from Data\n",
    "class_labels = [row[-1] for row in Data]\n",
    "\n",
    "# Convert class labels into numerical values (e.g., \"No\" → 0, \"Yes\" → 1)\n",
    "class_label_mapping = {value: idx for idx, value in enumerate(set(class_labels))}\n",
    "numerical_class_labels = np.array([class_label_mapping[label] for label in class_labels])\n",
    "\n",
    "\n",
    "# Print mappings for better understanding\n",
    "print(\"\\nFeature Mappings: \", feature_mappings)\n",
    "print(\"\\nClass Label Mapping: \", class_label_mapping)"
   ]
  },
  {
   "cell_type": "code",
   "execution_count": 9,
   "id": "e7debf6a-79ae-4fd7-8afe-ee309f848f95",
   "metadata": {},
   "outputs": [
    {
     "name": "stdout",
     "output_type": "stream",
     "text": [
      "\n",
      "🔍 Mapped Test Example: [1, 1, 1, 0]\n"
     ]
    }
   ],
   "source": [
    "# Define a test example (new weather conditions) to predict \"Play Tennis\" outcome\n",
    "x_test = ['Sunny', 'Cool', 'High', 'Weak']  # Example from dataset\n",
    "\n",
    "# Convert test example to numeric form\n",
    "mapped_x_test = [feature_mappings[i][value] for i, value in enumerate(x_test)]\n",
    "print(\"\\n🔍 Mapped Test Example:\", mapped_x_test)"
   ]
  },
  {
   "cell_type": "code",
   "execution_count": 11,
   "id": "e25cd5cd-1453-4efe-badf-7001ec86e951",
   "metadata": {},
   "outputs": [
    {
     "name": "stdout",
     "output_type": "stream",
     "text": [
      "\n",
      " Mean Values for Each Class:\n",
      " [[1.4        1.         0.8        0.6       ]\n",
      " [0.88888889 1.22222222 0.33333333 0.33333333]]\n",
      "\n",
      " Variance Values for Each Class:\n",
      " [[0.24       0.8        0.16       0.24      ]\n",
      " [0.7654321  0.61728395 0.22222222 0.22222222]]\n",
      "\n",
      " Prior Probabilities:\n",
      " [0.35714286 0.64285714]\n"
     ]
    }
   ],
   "source": [
    "# Compute dataset statistics\n",
    "n_samples, n_features = numerical_features.shape  # Number of rows and columns\n",
    "classes = np.unique(numerical_class_labels)  # Unique class labels\n",
    "n_classes = len(classes)  # Number of classes\n",
    "\n",
    "# Compute mean, variance, and prior probabilities for each class\n",
    "mean = np.zeros((n_classes, n_features), dtype=np.float64)\n",
    "var = np.zeros((n_classes, n_features), dtype=np.float64)\n",
    "priors = np.zeros(n_classes, dtype=np.float64)\n",
    "\n",
    "for idx, c in enumerate(classes):\n",
    "    X_c = numerical_features[numerical_class_labels == c, :]  # Select rows belonging to class `c`\n",
    "    mean[idx, :] = X_c.mean(axis=0)  # Mean for each feature in class `c`\n",
    "    var[idx, :] = X_c.var(axis=0)  # Variance for each feature in class `c`\n",
    "    priors[idx] = X_c.shape[0] / float(n_samples)  # Prior probability (P(class))\n",
    "\n",
    "# Print class statistics\n",
    "print(\"\\n Mean Values for Each Class:\\n\", mean)\n",
    "print(\"\\n Variance Values for Each Class:\\n\", var)\n",
    "print(\"\\n Prior Probabilities:\\n\", priors)"
   ]
  },
  {
   "cell_type": "code",
   "execution_count": 13,
   "id": "4da28a9f-effe-4f3c-b38d-1d2eee5a243d",
   "metadata": {},
   "outputs": [
    {
     "name": "stdout",
     "output_type": "stream",
     "text": [
      "\n",
      " Posterior probabilities:\n",
      " [0.03146976547837896, 0.029109126020591413]\n",
      "\n",
      " Posterior probabilities (after normalization):\n",
      " [0.51948401 0.48051599]\n",
      "\n",
      " The Predicted Class for ['Sunny', 'Cool', 'High', 'Weak'] is: 0 ( No )\n"
     ]
    }
   ],
   "source": [
    "# Predict the class of x_test using Naïve Bayes\n",
    "posteriors = []\n",
    "for idx, c in enumerate(classes):\n",
    "    prior = priors[idx]\n",
    "    likelihood = np.prod(pdf(idx, np.array(mapped_x_test).reshape(1, -1)))  # Compute likelihood\n",
    "    posterior = prior * likelihood  # Apply Bayes' theorem\n",
    "    posteriors.append(posterior)  # Store posterior probability\n",
    "\n",
    "print(\"\\n Posterior probabilities:\\n\", posteriors)\n",
    "# Normalize posteriors to get probability distribution\n",
    "Probabilities = np.array(posteriors) / np.sum(np.array(posteriors))\n",
    "print(\"\\n Posterior probabilities (after normalization):\\n\", Probabilities)\n",
    "predicted_class = classes[np.argmax(Probabilities)]  # Choose the class with highest probability\n",
    "\n",
    "# Print Prediction\n",
    "print(\"\\n The Predicted Class for\", x_test, \"is:\", predicted_class, \"(\", [\"No\", \"Yes\"][predicted_class], \")\")"
   ]
  },
  {
   "cell_type": "code",
   "execution_count": 15,
   "id": "695ec5b6-d633-4fb2-aabb-494bf53fa79f",
   "metadata": {},
   "outputs": [
    {
     "name": "stdout",
     "output_type": "stream",
     "text": [
      "\n",
      " Model Training Accuracy: 0.7857142857142857\n",
      "\n",
      " All Predicted Labels: [0, 0, 1, 0, 1, 1, 1, 1, 1, 1, 1, 1, 1, 0]\n"
     ]
    }
   ],
   "source": [
    "# ------------------------------------\n",
    "# Model Evaluation (Training Accuracy)\n",
    "# ------------------------------------\n",
    "correct_predictions = 0\n",
    "predicted_labels = []  # Initialize a list to store predictions\n",
    "\n",
    "for ii in range(n_samples):\n",
    "    posteriors = []\n",
    "    for idx, c in enumerate(classes):\n",
    "        prior = priors[idx]\n",
    "        likelihood = np.prod(pdf(idx, numerical_features[ii, :].reshape(1, -1)))\n",
    "        posterior = prior * likelihood\n",
    "        posteriors.append(posterior)\n",
    "\n",
    "    Probabilities = np.array(posteriors) / np.sum(np.array(posteriors))\n",
    "    predicted_label = classes[np.argmax(Probabilities)]  # Predicted class\n",
    "\n",
    "    predicted_labels.append(int(predicted_label))  # Convert to Python int and store the predicted label\n",
    "    # Check if prediction is correct\n",
    "    if numerical_class_labels[ii] == predicted_label:\n",
    "        correct_predictions += 1\n",
    "\n",
    "# Compute and print accuracy\n",
    "accuracy = correct_predictions / n_samples\n",
    "print(\"\\n Model Training Accuracy:\", accuracy)\n",
    "\n",
    "# Print all predictions\n",
    "print(\"\\n All Predicted Labels:\", predicted_labels)"
   ]
  },
  {
   "cell_type": "code",
   "execution_count": null,
   "id": "6fac7b47-0cb2-4fb2-b2f6-4fa32a822106",
   "metadata": {},
   "outputs": [],
   "source": []
  }
 ],
 "metadata": {
  "kernelspec": {
   "display_name": "Python 3 (ipykernel)",
   "language": "python",
   "name": "python3"
  },
  "language_info": {
   "codemirror_mode": {
    "name": "ipython",
    "version": 3
   },
   "file_extension": ".py",
   "mimetype": "text/x-python",
   "name": "python",
   "nbconvert_exporter": "python",
   "pygments_lexer": "ipython3",
   "version": "3.12.4"
  }
 },
 "nbformat": 4,
 "nbformat_minor": 5
}
