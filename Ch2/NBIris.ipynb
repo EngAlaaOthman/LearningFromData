{
 "cells": [
  {
   "cell_type": "code",
   "execution_count": 1,
   "id": "aba87f80-2521-4355-a838-30232cff4a55",
   "metadata": {},
   "outputs": [],
   "source": [
    "import numpy as np\n",
    "from sklearn import datasets\n",
    "from sklearn.model_selection import train_test_split\n",
    "from sklearn.metrics import accuracy_score"
   ]
  },
  {
   "cell_type": "code",
   "execution_count": 2,
   "id": "a66b65e7-8966-457c-a645-5cc6c8e507ed",
   "metadata": {},
   "outputs": [],
   "source": [
    "# -------------------------------\n",
    "# 🏆 Load and Prepare the Dataset\n",
    "# -------------------------------\n",
    "iris = datasets.load_iris()\n",
    "X_data = iris.data  # Features (Continuous)\n",
    "y_data = iris.target  # Labels (0, 1, or 2)\n",
    "\n",
    "# Split dataset into training (70%) and testing (30%)\n",
    "X_train, X_test, y_train, y_test = train_test_split(X_data, y_data, test_size=0.3, random_state=42)"
   ]
  },
  {
   "cell_type": "code",
   "execution_count": 3,
   "id": "ae7269bb-d7e8-4b42-a6b0-d256cfb74fef",
   "metadata": {},
   "outputs": [],
   "source": [
    "# ----------------------------------\n",
    "# 📌 Compute Mean, Variance, and Priors for Each Class\n",
    "# ----------------------------------\n",
    "n_samples, n_features = X_train.shape  # Get dimensions\n",
    "classes = np.unique(y_train)  # Get unique class labels\n",
    "n_classes = len(classes)  # Number of classes"
   ]
  },
  {
   "cell_type": "code",
   "execution_count": 4,
   "id": "34c5b2da-a3a9-4b34-a0a8-6c82f41bbd7d",
   "metadata": {},
   "outputs": [
    {
     "name": "stdout",
     "output_type": "stream",
     "text": [
      "Priors:  [0.2952381  0.35238095 0.35238095]\n"
     ]
    }
   ],
   "source": [
    "# Initialize storage for mean, variance, and prior probabilities\n",
    "mean = np.zeros((n_classes, n_features), dtype=np.float64)\n",
    "var = np.zeros((n_classes, n_features), dtype=np.float64)\n",
    "priors = np.zeros(n_classes, dtype=np.float64)\n",
    "\n",
    "for idx, c in enumerate(classes):\n",
    "    X_c = X_train[y_train == c]  # Select rows belonging to class `c`\n",
    "    mean[idx, :] = X_c.mean(axis=0)  # Compute mean for each feature\n",
    "    var[idx, :] = X_c.var(axis=0)  # Compute variance for each feature\n",
    "    priors[idx] = X_c.shape[0] / float(n_samples)  # Compute prior P(class)\n",
    "\n",
    "print(\"Priors: \", priors)"
   ]
  },
  {
   "cell_type": "code",
   "execution_count": 5,
   "id": "21084f04-6e63-4214-bbf7-779a7e5c2383",
   "metadata": {},
   "outputs": [],
   "source": [
    "# ----------------------------------\n",
    "# 📌 Define Probability Density Function (PDF)\n",
    "# ----------------------------------\n",
    "def pdf(class_idx, x):\n",
    "    \"\"\"\n",
    "    Computes the probability density function (PDF) for a given feature value x \n",
    "    using the class-specific mean and variance.\n",
    "    \"\"\"\n",
    "    mean0 = mean[class_idx]  # Get mean of class\n",
    "    var0 = var[class_idx]  # Get variance of class\n",
    "    numerator = np.exp(-((x - mean0) ** 2) / (2 * var0))  # Gaussian formula numerator\n",
    "    denominator = np.sqrt(2 * np.pi * var0)  # Gaussian formula denominator\n",
    "    return numerator / denominator  # Return probability density\n",
    "\n",
    "# ----------------------------------\n",
    "# 📌 Naïve Bayes Prediction Function\n",
    "# ----------------------------------\n",
    "def predict(x_sample):\n",
    "    \"\"\"\n",
    "    Predicts the class of a given sample using the Naïve Bayes rule.\n",
    "    \"\"\"\n",
    "    posteriors = []\n",
    "    \n",
    "    for idx, c in enumerate(classes):\n",
    "        prior = np.log(priors[idx])  # Log(P(class)) to prevent numerical underflow\n",
    "        likelihood = np.sum(np.log(pdf(idx, x_sample)))  # Compute log-likelihood\n",
    "        posterior = prior + likelihood  # Bayes Rule: log(P(class)) + sum(log(P(feature|class)))\n",
    "        posteriors.append(posterior)\n",
    "    \n",
    "    return classes[np.argmax(posteriors)]  # Return class with highest probability"
   ]
  },
  {
   "cell_type": "code",
   "execution_count": 6,
   "id": "2866eca9-56e0-4420-b97c-0ffc49a1baf7",
   "metadata": {},
   "outputs": [
    {
     "name": "stdout",
     "output_type": "stream",
     "text": [
      "Model Accuracy on Test Data: 0.98\n"
     ]
    }
   ],
   "source": [
    "# ----------------------------------\n",
    "# 📌 Model Evaluation (Training & Testing)\n",
    "# ----------------------------------\n",
    "# Predict on the test set\n",
    "y_pred = np.array([predict(x) for x in X_test])\n",
    "\n",
    "# Compute accuracy\n",
    "accuracy = accuracy_score(y_test, y_pred)\n",
    "print(f\"Model Accuracy on Test Data: {accuracy:.2f}\")"
   ]
  },
  {
   "cell_type": "code",
   "execution_count": 7,
   "id": "68144f92-6a87-4ba5-a2a9-eecbbbbcf4c5",
   "metadata": {},
   "outputs": [
    {
     "name": "stdout",
     "output_type": "stream",
     "text": [
      "\n",
      "Predicted Class for Sample [6.1 2.8 4.7 1.2]: 1 (Actual: 1)\n"
     ]
    }
   ],
   "source": [
    "# Example Prediction:\n",
    "sample = X_test[0]  # Take one test instance\n",
    "predicted_class = predict(sample)\n",
    "print(f\"\\nPredicted Class for Sample {sample}: {predicted_class} (Actual: {y_test[0]})\")"
   ]
  },
  {
   "cell_type": "code",
   "execution_count": null,
   "id": "9929c9bf-ad4a-4961-a14d-eaf988bd6f12",
   "metadata": {},
   "outputs": [],
   "source": []
  }
 ],
 "metadata": {
  "kernelspec": {
   "display_name": "Python 3 (ipykernel)",
   "language": "python",
   "name": "python3"
  },
  "language_info": {
   "codemirror_mode": {
    "name": "ipython",
    "version": 3
   },
   "file_extension": ".py",
   "mimetype": "text/x-python",
   "name": "python",
   "nbconvert_exporter": "python",
   "pygments_lexer": "ipython3",
   "version": "3.12.4"
  }
 },
 "nbformat": 4,
 "nbformat_minor": 5
}
